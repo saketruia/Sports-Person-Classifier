{
 "cells": [
  {
   "cell_type": "code",
   "execution_count": null,
   "id": "856bf352-b413-4c1d-bcc2-b182ffbc17e9",
   "metadata": {},
   "outputs": [],
   "source": []
  }
 ],
 "metadata": {
  "kernelspec": {
   "display_name": "",
   "name": ""
  },
  "language_info": {
   "name": ""
  }
 },
 "nbformat": 4,
 "nbformat_minor": 5
}
